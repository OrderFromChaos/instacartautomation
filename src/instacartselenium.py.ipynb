{
 "cells": [
  {
   "cell_type": "code",
   "execution_count": 13,
   "metadata": {},
   "outputs": [],
   "source": [
    "from selenium import webdriver\n",
    "from time import sleep\n",
    "import json\n",
    "from selenium.common.exceptions import NoSuchElementException"
   ]
  },
  {
   "cell_type": "code",
   "execution_count": 2,
   "metadata": {},
   "outputs": [],
   "source": [
    "browser = webdriver.Chrome('/home/order/Videos/chromedriver/chromedriver') # Linux\n",
    "find_css = browser.find_element_by_css_selector\n",
    "find_xpath = browser.find_element_by_xpath\n",
    "login_url = 'https://www.instacart.com/#login'"
   ]
  },
  {
   "cell_type": "code",
   "execution_count": 3,
   "metadata": {},
   "outputs": [],
   "source": [
    "browser.get(login_url)"
   ]
  },
  {
   "cell_type": "code",
   "execution_count": 4,
   "metadata": {},
   "outputs": [],
   "source": [
    "username_box = find_css(\"#nextgen-authenticate\\.all\\.log_in_email\")\n",
    "password_box = find_css(\"#nextgen-authenticate\\.all\\.log_in_password\")\n",
    "with open('../databases/passwords.json', 'r') as f:\n",
    "    logininfo = json.load(f)['instacart']\n",
    "username_box.send_keys(logininfo['email'])\n",
    "password_box.send_keys(logininfo['password'])"
   ]
  },
  {
   "cell_type": "code",
   "execution_count": 6,
   "metadata": {},
   "outputs": [],
   "source": [
    "submit_button = find_xpath(r'//*[@id=\"main-content\"]/div[2]/form/div[3]/button')\n",
    "submit_button.click()"
   ]
  },
  {
   "cell_type": "code",
   "execution_count": 7,
   "metadata": {},
   "outputs": [],
   "source": [
    "# long ass loading time"
   ]
  },
  {
   "cell_type": "code",
   "execution_count": 8,
   "metadata": {},
   "outputs": [],
   "source": [
    "# logs to the previously loaded store"
   ]
  },
  {
   "cell_type": "code",
   "execution_count": 9,
   "metadata": {},
   "outputs": [],
   "source": [
    "# example item\n",
    "browser.get('https://www.instacart.com/store/items/item_497489139')"
   ]
  },
  {
   "cell_type": "code",
   "execution_count": 17,
   "metadata": {},
   "outputs": [
    {
     "name": "stdout",
     "output_type": "stream",
     "text": [
      "Health-Ade Kombucha Bubbly Probiotic Tea Ginger-Lemon\n",
      "16 fl oz \n",
      "$4.19\n"
     ]
    }
   ],
   "source": [
    "name = find_xpath('//*[@id=\"store\"]/div[5]/div/div/div/div[2]/div/div/div/div/div/div/div[2]/div/div/div/div[1]/div/div[4]/div[1]/h2').text\n",
    "print(name)\n",
    "try:\n",
    "    quantinfo = find_xpath('//*[@id=\"store\"]/div[5]/div/div/div/div[2]/div/div/div/div/div/div/div[2]/div/div/div/div[1]/div/div[4]/div[1]/div[1]/p').text\n",
    "    print(quantinfo)\n",
    "except NoSuchElementException:\n",
    "    # The quantity info is in the price div\n",
    "    pass\n",
    "price = find_xpath('//*[@id=\"store\"]/div[5]/div/div/div/div[2]/div/div/div/div/div/div/div[2]/div/div/div/div[1]/div/div[4]/div[1]/div[2]/div/div[1]/span[2]').text\n",
    "print(price)"
   ]
  },
  {
   "cell_type": "code",
   "execution_count": null,
   "metadata": {},
   "outputs": [],
   "source": [
    "# Types:\n",
    "# Info is in quantity and price div (eg scallions)\n",
    "# Info is in price div only (eg ginger root)\n",
    "# Info is in quantity div only (sushi chef pickled ginger https://www.instacart.com/store/items/item_497495884)"
   ]
  }
 ],
 "metadata": {
  "kernelspec": {
   "display_name": "Python 3.6.9 64-bit ('base': conda)",
   "language": "python",
   "name": "python36964bitbasecondaf6a9831abe4e4ad59df36f39d1685cd0"
  },
  "language_info": {
   "codemirror_mode": {
    "name": "ipython",
    "version": 3
   },
   "file_extension": ".py",
   "mimetype": "text/x-python",
   "name": "python",
   "nbconvert_exporter": "python",
   "pygments_lexer": "ipython3",
   "version": "3.6.9"
  }
 },
 "nbformat": 4,
 "nbformat_minor": 4
}
