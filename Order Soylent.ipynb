{
 "cells": [
  {
   "cell_type": "code",
   "execution_count": 10,
   "metadata": {
    "collapsed": false
   },
   "outputs": [],
   "source": [
    "#One time purchase, of course. Works!\n",
    "from selenium import webdriver\n",
    "import time\n",
    "\n",
    "#Arguments: (in multiples of 12, please)\n",
    "bottles_of_original = 36\n",
    "bottles_of_nectar = 24\n",
    "bottles_of_cacao = 0\n",
    "\n",
    "browser = webdriver.Chrome(r'C:\\Users\\Syris Norelli\\Downloads\\ChromeDriver\\ChromeDriver.exe')\n",
    "\n",
    "wait = browser.implicitly_wait(4)\n",
    "find = browser.find_element_by_xpath\n",
    "\n",
    "#XPath just for fun! Just kidding, it happened in development time to try and work around an issue.\n",
    "wait\n",
    "browser.get(r'https://www.soylent.com/product/drink/')\n",
    "wait\n",
    "original_box = find(r'/html/body/div[2]/main/ul/li/div[2]/form/div[1]/div[1]/div/select')\n",
    "nectar_box = find(r'/html/body/div[2]/main/ul/li/div[2]/form/div[1]/div[2]/div/select')\n",
    "cacao_box = find(r'/html/body/div[2]/main/ul/li/div[2]/form/div[1]/div[3]/div/select')\n",
    "original_box.send_keys(str(bottles_of_original) + ' Bottles')\n",
    "nectar_box.send_keys(str(bottles_of_nectar) + 'Bottles')\n",
    "cacao_box.send_keys(str(bottles_of_cacao) + 'Bottles')\n",
    "\n",
    "checkbox = find('//*[@id=\"subscribe-checkbox-drink\"]')\n",
    "checkbox.click()\n",
    "\n",
    "time.sleep(1)\n",
    "submit_box = find(r'/html/body/div[2]/main/ul/li/div[2]/form/button[1]')\n",
    "submit_box.click()"
   ]
  },
  {
   "cell_type": "code",
   "execution_count": null,
   "metadata": {
    "collapsed": true
   },
   "outputs": [],
   "source": []
  }
 ],
 "metadata": {
  "anaconda-cloud": {},
  "kernelspec": {
   "display_name": "Python 3",
   "language": "python",
   "name": "python3"
  },
  "language_info": {
   "codemirror_mode": {
    "name": "ipython",
    "version": 3
   },
   "file_extension": ".py",
   "mimetype": "text/x-python",
   "name": "python",
   "nbconvert_exporter": "python",
   "pygments_lexer": "ipython3",
   "version": "3.6.0"
  }
 },
 "nbformat": 4,
 "nbformat_minor": 1
}
